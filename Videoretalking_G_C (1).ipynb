{
  "nbformat": 4,
  "nbformat_minor": 0,
  "metadata": {
    "colab": {
      "provenance": []
    },
    "kernelspec": {
      "name": "python3",
      "display_name": "Python 3"
    },
    "language_info": {
      "name": "python"
    }
  },
  "cells": [
    {
      "cell_type": "markdown",
      "source": [
        "\n",
        "\n",
        "**Installation** **bold text** & **Download** **Models**"
      ],
      "metadata": {
        "id": "WqsQGWqjYQ-Z"
      }
    },
    {
      "cell_type": "code",
      "source": [
        "%cd /content/\n",
        "!git clone https://github.com/zachysaur/video-retalking.git\n",
        "\n",
        "!apt -y install -qq aria2\n",
        "!aria2c --console-log-level=error -c -x 16 -s 16 -k 1M https://huggingface.co/camenduru/video-retalking/resolve/main/30_net_gen.pth -d /content/video-retalking/checkpoints -o 30_net_gen.pth\n",
        "!aria2c --console-log-level=error -c -x 16 -s 16 -k 1M https://huggingface.co/camenduru/video-retalking/resolve/main/BFM.zip -d /content/video-retalking/checkpoints -o BFM.zip\n",
        "!aria2c --console-log-level=error -c -x 16 -s 16 -k 1M https://huggingface.co/camenduru/video-retalking/resolve/main/DNet.pt -d /content/video-retalking/checkpoints -o DNet.pt\n",
        "!aria2c --console-log-level=error -c -x 16 -s 16 -k 1M https://huggingface.co/camenduru/video-retalking/resolve/main/ENet.pth -d /content/video-retalking/checkpoints -o ENet.pth\n",
        "!aria2c --console-log-level=error -c -x 16 -s 16 -k 1M https://huggingface.co/camenduru/video-retalking/resolve/main/GFPGANv1.3.pth -d /content/video-retalking/checkpoints -o GFPGANv1.3.pth\n",
        "!aria2c --console-log-level=error -c -x 16 -s 16 -k 1M https://huggingface.co/camenduru/video-retalking/resolve/main/GPEN-BFR-512.pth -d /content/video-retalking/checkpoints -o GPEN-BFR-512.pth\n",
        "!aria2c --console-log-level=error -c -x 16 -s 16 -k 1M https://huggingface.co/camenduru/video-retalking/resolve/main/LNet.pth -d /content/video-retalking/checkpoints -o LNet.pth\n",
        "!aria2c --console-log-level=error -c -x 16 -s 16 -k 1M https://huggingface.co/camenduru/video-retalking/resolve/main/ParseNet-latest.pth -d /content/video-retalking/checkpoints -o ParseNet-latest.pth\n",
        "!aria2c --console-log-level=error -c -x 16 -s 16 -k 1M https://huggingface.co/camenduru/video-retalking/resolve/main/RetinaFace-R50.pth -d /content/video-retalking/checkpoints -o RetinaFace-R50.pth\n",
        "!aria2c --console-log-level=error -c -x 16 -s 16 -k 1M https://huggingface.co/camenduru/video-retalking/resolve/main/expression.mat -d /content/video-retalking/checkpoints -o expression.mat\n",
        "!aria2c --console-log-level=error -c -x 16 -s 16 -k 1M https://huggingface.co/camenduru/video-retalking/resolve/main/face3d_pretrain_epoch_20.pth -d /content/video-retalking/checkpoints -o face3d_pretrain_epoch_20.pth\n",
        "!aria2c --console-log-level=error -c -x 16 -s 16 -k 1M https://huggingface.co/camenduru/video-retalking/resolve/main/shape_predictor_68_face_landmarks.dat -d /content/video-retalking/checkpoints -o shape_predictor_68_face_landmarks.dat\n",
        "!aria2c --console-log-level=error -c -x 16 -s 16 -k 1M https://huggingface.co/camenduru/facexlib/resolve/main/detection_Resnet50_Final.pth -d /usr/local/lib/python3.10/dist-packages/facexlib/weights -o detection_Resnet50_Final.pth\n",
        "!aria2c --console-log-level=error -c -x 16 -s 16 -k 1M https://huggingface.co/camenduru/facexlib/resolve/main/s3fd-619a316812.pth -d /root/.cache/torch/hub/checkpoints -o s3fd-619a316812.pth\n",
        "!aria2c --console-log-level=error -c -x 16 -s 16 -k 1M https://huggingface.co/camenduru/facexlib/resolve/main/2DFAN4-cd938726ad.zip -d /root/.cache/torch/hub/checkpoints -o 2DFAN4-cd938726ad.zip\n",
        "!unzip -d /content/video-retalking/checkpoints/BFM /content/video-retalking/checkpoints/BFM.zip\n",
        "%cd /content/video-retalking\n",
        "!pip install -r requirements.txt"
      ],
      "metadata": {
        "id": "3SFkAhpfiG_Y"
      },
      "execution_count": null,
      "outputs": []
    },
    {
      "cell_type": "markdown",
      "source": [
        "**Run** **With** **Pinggy**"
      ],
      "metadata": {
        "id": "OGdF2EOHZTyJ"
      }
    },
    {
      "cell_type": "code",
      "source": [
        "!npm install -g localtunnel\n",
        "!pip install colorama\n",
        "import subprocess\n",
        "import threading\n",
        "import time\n",
        "import socket\n",
        "import urllib.request\n",
        "def iframe_thread(port):\n",
        "    while True:\n",
        "        time.sleep(0.5)\n",
        "        sock= socket.socket(socket.AF_INET, socket.SOCK_STREAM)\n",
        "        result = sock.connect_ex(('127.0.0.1', port))\n",
        "        if result == 0:\n",
        "            break\n",
        "        sock.close()\n",
        "\n",
        "        from colorama import Fore, Style\n",
        "    print (Fore.GREEN + \"\\nIP: \", Fore. RED, urllib.request.urlopen('https://ipv4.icanhazip.com').read().decode('utf8').strip(\"\\n\"), \"\\n\", Style. RESET_ALL)\n",
        "    p = subprocess.Popen([\"lt\", \"--port\", \"{}\".format(port)], stdout=subprocess.PIPE)\n",
        "    for line in p.stdout:\n",
        "        print(line.decode(), end='')\n",
        "threading.Thread (target=iframe_thread, daemon=True, args=(7860,)).start()\n",
        "\n",
        "\n",
        "\n",
        "\n",
        "!python webUI.py"
      ],
      "metadata": {
        "id": "qPR4zmUKRQED"
      },
      "execution_count": null,
      "outputs": []
    },
    {
      "cell_type": "code",
      "source": [
        "# Step 1: List the contents of the directory to ensure the file exists\n",
        "!ls /usr/local/lib/python3.10/dist-packages/basicsr/data/\n",
        "\n",
        "# Step 2: Replace torchvision.transforms.functional_tensor with torchvision.transforms.functional\n",
        "!sed -i 's/torchvision.transforms.functional_tensor/torchvision.transforms.functional/' /usr/local/lib/python3.10/dist-packages/basicsr/data/degradations.py\n",
        "\n",
        "# Step 3: Verify the change\n",
        "!grep 'torchvision.transforms.functional' /usr/local/lib/python3.10/dist-packages/basicsr/data/degradations.py\n"
      ],
      "metadata": {
        "id": "aR2Z5IgxgDKR"
      },
      "execution_count": null,
      "outputs": []
    }
  ]
}