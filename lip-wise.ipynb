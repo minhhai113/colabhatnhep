{
  "nbformat": 4,
  "nbformat_minor": 0,
  "metadata": {
    "colab": {
      "provenance": [],
      "gpuType": "T4"
    },
    "kernelspec": {
      "name": "python3",
      "display_name": "Python 3"
    },
    "language_info": {
      "name": "python"
    },
    "accelerator": "GPU"
  },
  "cells": [
    {
      "cell_type": "code",
      "source": [
        "# Google Colab Setup Script\n",
        "\n",
        "# Install necessary system dependencies\n",
        "!apt-get update\n",
        "!apt-get install -y ffmpeg\n",
        "\n",
        "# Check if CUDA is available\n",
        "import torch\n",
        "if not torch.cuda.is_available():\n",
        "    print(\"CUDA is not available. CPU will be used for inference.\")\n",
        "\n",
        "# Clone the repository (assuming your code is hosted on GitHub)\n",
        "!git clone https://github.com/pawansharmaaaa/Lip_Wise.git\n",
        "\n",
        "# Change directory to the project folder\n",
        "%cd /content/Lip_Wise\n",
        "\n",
        "# Install Python dependencies\n",
        "!pip install -r requirements.txt\n",
        "\n",
        "# Copy basicsr archs\n",
        "!cp archs/* /usr/local/lib/python3.10/dist-packages/basicsr/archs/\n",
        "\n",
        "# Run file_check.py\n",
        "!python helpers/file_check.py"
      ],
      "metadata": {
        "id": "0fwRReYMNAgx"
      },
      "execution_count": null,
      "outputs": []
    },
    {
      "cell_type": "code",
      "source": [
        "!pip install colorama"
      ],
      "metadata": {
        "id": "CXXuF2laM32h"
      },
      "execution_count": null,
      "outputs": []
    },
    {
      "cell_type": "code",
      "source": [
        "!npm install -g localtunnel\n",
        "import subprocess\n",
        "import threading\n",
        "import time\n",
        "import socket\n",
        "import urllib.request\n",
        "def iframe_thread(port):\n",
        "    while True:\n",
        "        time.sleep(0.5)\n",
        "        sock= socket.socket(socket.AF_INET, socket.SOCK_STREAM)\n",
        "        result = sock.connect_ex(('127.0.0.1', port))\n",
        "        if result == 0:\n",
        "            break\n",
        "        sock.close()\n",
        "\n",
        "        from colorama import Fore, Style\n",
        "    print (Fore.GREEN + \"\\nIP: \", Fore. RED, urllib.request.urlopen('https://ipv4.icanhazip.com').read().decode('utf8').strip(\"\\n\"), \"\\n\", Style. RESET_ALL)\n",
        "    p = subprocess.Popen([\"lt\", \"--port\", \"{}\".format(port)], stdout=subprocess.PIPE)\n",
        "    for line in p.stdout:\n",
        "        print(line.decode(), end='')\n",
        "threading.Thread (target=iframe_thread, daemon=True, args=(7860,)).start()\n",
        "\n",
        "\n",
        "\n",
        "\n",
        "!python launch.py"
      ],
      "metadata": {
        "id": "oVJsg1m7NEGi"
      },
      "execution_count": null,
      "outputs": []
    }
  ]
}